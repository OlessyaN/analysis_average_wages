{
 "cells": [
  {
   "cell_type": "code",
   "execution_count": 1,
   "id": "fb7a3cd4",
   "metadata": {},
   "outputs": [],
   "source": [
    "import numpy as np\n",
    "import pandas as pd\n",
    "import matplotlib.pyplot as plt\n",
    "from scipy import stats"
   ]
  },
  {
   "cell_type": "markdown",
   "id": "589736d6",
   "metadata": {},
   "source": [
    "## Task 1.\n",
    "\n",
    "Read the csv file `abc.csv` into a DataFrame."
   ]
  },
  {
   "cell_type": "code",
   "execution_count": 16,
   "id": "884f7859",
   "metadata": {},
   "outputs": [
    {
     "name": "stdout",
     "output_type": "stream",
     "text": [
      "(120, 3)\n"
     ]
    },
    {
     "data": {
      "text/html": [
       "<div>\n",
       "<style scoped>\n",
       "    .dataframe tbody tr th:only-of-type {\n",
       "        vertical-align: middle;\n",
       "    }\n",
       "\n",
       "    .dataframe tbody tr th {\n",
       "        vertical-align: top;\n",
       "    }\n",
       "\n",
       "    .dataframe thead th {\n",
       "        text-align: right;\n",
       "    }\n",
       "</style>\n",
       "<table border=\"1\" class=\"dataframe\">\n",
       "  <thead>\n",
       "    <tr style=\"text-align: right;\">\n",
       "      <th></th>\n",
       "      <th>A</th>\n",
       "      <th>B</th>\n",
       "      <th>C</th>\n",
       "    </tr>\n",
       "  </thead>\n",
       "  <tbody>\n",
       "    <tr>\n",
       "      <th>0</th>\n",
       "      <td>204.0</td>\n",
       "      <td>285.0</td>\n",
       "      <td>248.0</td>\n",
       "    </tr>\n",
       "    <tr>\n",
       "      <th>1</th>\n",
       "      <td>197.0</td>\n",
       "      <td>303.0</td>\n",
       "      <td>255.0</td>\n",
       "    </tr>\n",
       "    <tr>\n",
       "      <th>2</th>\n",
       "      <td>201.0</td>\n",
       "      <td>289.0</td>\n",
       "      <td>250.0</td>\n",
       "    </tr>\n",
       "    <tr>\n",
       "      <th>3</th>\n",
       "      <td>201.0</td>\n",
       "      <td>301.0</td>\n",
       "      <td>256.0</td>\n",
       "    </tr>\n",
       "    <tr>\n",
       "      <th>4</th>\n",
       "      <td>195.0</td>\n",
       "      <td>304.0</td>\n",
       "      <td>255.0</td>\n",
       "    </tr>\n",
       "  </tbody>\n",
       "</table>\n",
       "</div>"
      ],
      "text/plain": [
       "       A      B      C\n",
       "0  204.0  285.0  248.0\n",
       "1  197.0  303.0  255.0\n",
       "2  201.0  289.0  250.0\n",
       "3  201.0  301.0  256.0\n",
       "4  195.0  304.0  255.0"
      ]
     },
     "execution_count": 16,
     "metadata": {},
     "output_type": "execute_result"
    }
   ],
   "source": [
    "df=pd.read_csv('abc.csv')\n",
    "print(df.shape)\n",
    "df.head()"
   ]
  },
  {
   "cell_type": "markdown",
   "id": "a571b35c",
   "metadata": {},
   "source": [
    "How many duplicated rows are there in the dataframe?"
   ]
  },
  {
   "cell_type": "code",
   "execution_count": 19,
   "id": "de5ed9a7",
   "metadata": {},
   "outputs": [
    {
     "data": {
      "text/plain": [
       "14"
      ]
     },
     "execution_count": 19,
     "metadata": {},
     "output_type": "execute_result"
    }
   ],
   "source": [
    "df.duplicated().sum()"
   ]
  },
  {
   "cell_type": "markdown",
   "id": "7ee0b249",
   "metadata": {},
   "source": [
    "How many missing values are there in each column?"
   ]
  },
  {
   "cell_type": "code",
   "execution_count": 20,
   "id": "e55bb274",
   "metadata": {},
   "outputs": [
    {
     "data": {
      "text/plain": [
       "A    10\n",
       "B    10\n",
       "C    20\n",
       "dtype: int64"
      ]
     },
     "execution_count": 20,
     "metadata": {},
     "output_type": "execute_result"
    }
   ],
   "source": [
    "df.isna().sum()"
   ]
  },
  {
   "cell_type": "markdown",
   "id": "697cb0e1",
   "metadata": {},
   "source": [
    "Clean the DataFrame:\n",
    "* For column A, replace NaNs by 200\n",
    "* For column B, replace NaNs by the mean of column B\n",
    "* For column C, replace NaNs by the average value of A and B of the same row.\n",
    "* Ensure that all columns have integer type\n",
    "* Drop duplicate rows; how many rows are left in the DataFrame?"
   ]
  },
  {
   "cell_type": "code",
   "execution_count": 21,
   "id": "e1771a2d",
   "metadata": {},
   "outputs": [],
   "source": [
    "df['A'].fillna(200,inplace=True)"
   ]
  },
  {
   "cell_type": "code",
   "execution_count": 22,
   "id": "42cf1038",
   "metadata": {},
   "outputs": [],
   "source": [
    "df['B'].fillna(df['B'].mean(),inplace=True)"
   ]
  },
  {
   "cell_type": "code",
   "execution_count": 23,
   "id": "3d997516",
   "metadata": {},
   "outputs": [],
   "source": [
    "df['C']=df.apply(lambda row: row[['A','B']].mean(), axis=1)"
   ]
  },
  {
   "cell_type": "code",
   "execution_count": 24,
   "id": "38b82747",
   "metadata": {},
   "outputs": [
    {
     "data": {
      "text/plain": [
       "A    int32\n",
       "B    int32\n",
       "C    int32\n",
       "dtype: object"
      ]
     },
     "execution_count": 24,
     "metadata": {},
     "output_type": "execute_result"
    }
   ],
   "source": [
    "df=df.astype(int)\n",
    "df.dtypes"
   ]
  },
  {
   "cell_type": "code",
   "execution_count": 25,
   "id": "f5079b2b",
   "metadata": {},
   "outputs": [
    {
     "data": {
      "text/plain": [
       "24"
      ]
     },
     "execution_count": 25,
     "metadata": {},
     "output_type": "execute_result"
    }
   ],
   "source": [
    "df.duplicated().sum()"
   ]
  },
  {
   "cell_type": "code",
   "execution_count": 26,
   "id": "12a1c97d",
   "metadata": {},
   "outputs": [
    {
     "name": "stdout",
     "output_type": "stream",
     "text": [
      "(96, 3)\n"
     ]
    },
    {
     "data": {
      "text/html": [
       "<div>\n",
       "<style scoped>\n",
       "    .dataframe tbody tr th:only-of-type {\n",
       "        vertical-align: middle;\n",
       "    }\n",
       "\n",
       "    .dataframe tbody tr th {\n",
       "        vertical-align: top;\n",
       "    }\n",
       "\n",
       "    .dataframe thead th {\n",
       "        text-align: right;\n",
       "    }\n",
       "</style>\n",
       "<table border=\"1\" class=\"dataframe\">\n",
       "  <thead>\n",
       "    <tr style=\"text-align: right;\">\n",
       "      <th></th>\n",
       "      <th>A</th>\n",
       "      <th>B</th>\n",
       "      <th>C</th>\n",
       "    </tr>\n",
       "  </thead>\n",
       "  <tbody>\n",
       "    <tr>\n",
       "      <th>0</th>\n",
       "      <td>204</td>\n",
       "      <td>285</td>\n",
       "      <td>244</td>\n",
       "    </tr>\n",
       "    <tr>\n",
       "      <th>1</th>\n",
       "      <td>197</td>\n",
       "      <td>303</td>\n",
       "      <td>250</td>\n",
       "    </tr>\n",
       "    <tr>\n",
       "      <th>2</th>\n",
       "      <td>201</td>\n",
       "      <td>289</td>\n",
       "      <td>245</td>\n",
       "    </tr>\n",
       "    <tr>\n",
       "      <th>3</th>\n",
       "      <td>201</td>\n",
       "      <td>301</td>\n",
       "      <td>251</td>\n",
       "    </tr>\n",
       "    <tr>\n",
       "      <th>4</th>\n",
       "      <td>195</td>\n",
       "      <td>304</td>\n",
       "      <td>249</td>\n",
       "    </tr>\n",
       "  </tbody>\n",
       "</table>\n",
       "</div>"
      ],
      "text/plain": [
       "     A    B    C\n",
       "0  204  285  244\n",
       "1  197  303  250\n",
       "2  201  289  245\n",
       "3  201  301  251\n",
       "4  195  304  249"
      ]
     },
     "execution_count": 26,
     "metadata": {},
     "output_type": "execute_result"
    }
   ],
   "source": [
    "df.drop_duplicates(inplace=True)\n",
    "print(df.shape)\n",
    "df.head()"
   ]
  },
  {
   "cell_type": "markdown",
   "id": "763b2401",
   "metadata": {},
   "source": [
    "## Task 2."
   ]
  },
  {
   "cell_type": "markdown",
   "id": "7f345d22",
   "metadata": {},
   "source": [
    "Read the csv file `avg_wages.csv` into a dataframe `dfw`.\n",
    "\n",
    "This dataset comprises the average wages of the countries of European Union between 2006 and 2020."
   ]
  },
  {
   "cell_type": "code",
   "execution_count": 20,
   "id": "4aacf689",
   "metadata": {
    "scrolled": false
   },
   "outputs": [
    {
     "data": {
      "text/html": [
       "<div>\n",
       "<style scoped>\n",
       "    .dataframe tbody tr th:only-of-type {\n",
       "        vertical-align: middle;\n",
       "    }\n",
       "\n",
       "    .dataframe tbody tr th {\n",
       "        vertical-align: top;\n",
       "    }\n",
       "\n",
       "    .dataframe thead th {\n",
       "        text-align: right;\n",
       "    }\n",
       "</style>\n",
       "<table border=\"1\" class=\"dataframe\">\n",
       "  <thead>\n",
       "    <tr style=\"text-align: right;\">\n",
       "      <th></th>\n",
       "      <th>LOCATION</th>\n",
       "      <th>Y2006</th>\n",
       "      <th>Y2007</th>\n",
       "      <th>Y2008</th>\n",
       "      <th>Y2009</th>\n",
       "      <th>Y2010</th>\n",
       "      <th>Y2011</th>\n",
       "      <th>Y2012</th>\n",
       "      <th>Y2013</th>\n",
       "      <th>Y2014</th>\n",
       "      <th>Y2015</th>\n",
       "      <th>Y2016</th>\n",
       "      <th>Y2017</th>\n",
       "      <th>Y2018</th>\n",
       "      <th>Y2019</th>\n",
       "      <th>Y2020</th>\n",
       "    </tr>\n",
       "  </thead>\n",
       "  <tbody>\n",
       "    <tr>\n",
       "      <th>0</th>\n",
       "      <td>AUT</td>\n",
       "      <td>50524.506564</td>\n",
       "      <td>50814.325436</td>\n",
       "      <td>51677.710303</td>\n",
       "      <td>52578.272037</td>\n",
       "      <td>52334.294580</td>\n",
       "      <td>51755.116093</td>\n",
       "      <td>52070.667736</td>\n",
       "      <td>52128.135527</td>\n",
       "      <td>52309.655188</td>\n",
       "      <td>52686.043960</td>\n",
       "      <td>53169.977860</td>\n",
       "      <td>53136.352960</td>\n",
       "      <td>53325.486022</td>\n",
       "      <td>53690.031378</td>\n",
       "      <td>53131.847260</td>\n",
       "    </tr>\n",
       "    <tr>\n",
       "      <th>1</th>\n",
       "      <td>BEL</td>\n",
       "      <td>53327.449932</td>\n",
       "      <td>53224.860383</td>\n",
       "      <td>53452.929608</td>\n",
       "      <td>54193.829082</td>\n",
       "      <td>53969.024719</td>\n",
       "      <td>54520.140610</td>\n",
       "      <td>54950.872490</td>\n",
       "      <td>55503.367518</td>\n",
       "      <td>55808.797932</td>\n",
       "      <td>55427.286365</td>\n",
       "      <td>55525.989944</td>\n",
       "      <td>55130.181974</td>\n",
       "      <td>55387.695298</td>\n",
       "      <td>56021.805354</td>\n",
       "      <td>54326.598175</td>\n",
       "    </tr>\n",
       "    <tr>\n",
       "      <th>2</th>\n",
       "      <td>CZE</td>\n",
       "      <td>22861.847008</td>\n",
       "      <td>23545.285901</td>\n",
       "      <td>23672.731508</td>\n",
       "      <td>23578.221573</td>\n",
       "      <td>24309.372522</td>\n",
       "      <td>24508.119622</td>\n",
       "      <td>24557.712349</td>\n",
       "      <td>24404.413629</td>\n",
       "      <td>24920.538327</td>\n",
       "      <td>25660.226169</td>\n",
       "      <td>26574.905825</td>\n",
       "      <td>27930.690363</td>\n",
       "      <td>29420.908126</td>\n",
       "      <td>30354.848712</td>\n",
       "      <td>29884.588816</td>\n",
       "    </tr>\n",
       "    <tr>\n",
       "      <th>3</th>\n",
       "      <td>DEU</td>\n",
       "      <td>46546.461494</td>\n",
       "      <td>46415.410186</td>\n",
       "      <td>46632.728469</td>\n",
       "      <td>46645.963088</td>\n",
       "      <td>47054.100469</td>\n",
       "      <td>48025.575290</td>\n",
       "      <td>48682.548875</td>\n",
       "      <td>49158.707242</td>\n",
       "      <td>50001.028820</td>\n",
       "      <td>51171.531009</td>\n",
       "      <td>51901.819556</td>\n",
       "      <td>52454.146078</td>\n",
       "      <td>53220.549493</td>\n",
       "      <td>54041.356470</td>\n",
       "      <td>53744.998601</td>\n",
       "    </tr>\n",
       "    <tr>\n",
       "      <th>4</th>\n",
       "      <td>DNK</td>\n",
       "      <td>51745.235763</td>\n",
       "      <td>52309.176187</td>\n",
       "      <td>53017.211202</td>\n",
       "      <td>54302.633627</td>\n",
       "      <td>54928.317132</td>\n",
       "      <td>54643.797654</td>\n",
       "      <td>54570.075681</td>\n",
       "      <td>54924.954335</td>\n",
       "      <td>55975.891349</td>\n",
       "      <td>56959.843690</td>\n",
       "      <td>57043.390343</td>\n",
       "      <td>57355.115156</td>\n",
       "      <td>57794.204720</td>\n",
       "      <td>57967.313949</td>\n",
       "      <td>58429.652139</td>\n",
       "    </tr>\n",
       "  </tbody>\n",
       "</table>\n",
       "</div>"
      ],
      "text/plain": [
       "  LOCATION         Y2006         Y2007         Y2008         Y2009  \\\n",
       "0      AUT  50524.506564  50814.325436  51677.710303  52578.272037   \n",
       "1      BEL  53327.449932  53224.860383  53452.929608  54193.829082   \n",
       "2      CZE  22861.847008  23545.285901  23672.731508  23578.221573   \n",
       "3      DEU  46546.461494  46415.410186  46632.728469  46645.963088   \n",
       "4      DNK  51745.235763  52309.176187  53017.211202  54302.633627   \n",
       "\n",
       "          Y2010         Y2011         Y2012         Y2013         Y2014  \\\n",
       "0  52334.294580  51755.116093  52070.667736  52128.135527  52309.655188   \n",
       "1  53969.024719  54520.140610  54950.872490  55503.367518  55808.797932   \n",
       "2  24309.372522  24508.119622  24557.712349  24404.413629  24920.538327   \n",
       "3  47054.100469  48025.575290  48682.548875  49158.707242  50001.028820   \n",
       "4  54928.317132  54643.797654  54570.075681  54924.954335  55975.891349   \n",
       "\n",
       "          Y2015         Y2016         Y2017         Y2018         Y2019  \\\n",
       "0  52686.043960  53169.977860  53136.352960  53325.486022  53690.031378   \n",
       "1  55427.286365  55525.989944  55130.181974  55387.695298  56021.805354   \n",
       "2  25660.226169  26574.905825  27930.690363  29420.908126  30354.848712   \n",
       "3  51171.531009  51901.819556  52454.146078  53220.549493  54041.356470   \n",
       "4  56959.843690  57043.390343  57355.115156  57794.204720  57967.313949   \n",
       "\n",
       "          Y2020  \n",
       "0  53131.847260  \n",
       "1  54326.598175  \n",
       "2  29884.588816  \n",
       "3  53744.998601  \n",
       "4  58429.652139  "
      ]
     },
     "execution_count": 20,
     "metadata": {},
     "output_type": "execute_result"
    }
   ],
   "source": [
    "dfw=pd.read_csv('avg_wages.csv')\n",
    "\n",
    "dfw.head()"
   ]
  },
  {
   "cell_type": "markdown",
   "id": "9fa9a913",
   "metadata": {},
   "source": [
    "Read the csv file `employment.csv` into a dataframe `dfe`.\n",
    "\n",
    "This dataset comprises the employment rate of the countries of European Union between 2006 and 2020."
   ]
  },
  {
   "cell_type": "code",
   "execution_count": 22,
   "id": "190570f1",
   "metadata": {},
   "outputs": [],
   "source": [
    "dfe=pd.read_csv('employment.csv')"
   ]
  },
  {
   "cell_type": "code",
   "execution_count": 23,
   "id": "980cc4ef",
   "metadata": {},
   "outputs": [
    {
     "data": {
      "text/html": [
       "<div>\n",
       "<style scoped>\n",
       "    .dataframe tbody tr th:only-of-type {\n",
       "        vertical-align: middle;\n",
       "    }\n",
       "\n",
       "    .dataframe tbody tr th {\n",
       "        vertical-align: top;\n",
       "    }\n",
       "\n",
       "    .dataframe thead th {\n",
       "        text-align: right;\n",
       "    }\n",
       "</style>\n",
       "<table border=\"1\" class=\"dataframe\">\n",
       "  <thead>\n",
       "    <tr style=\"text-align: right;\">\n",
       "      <th></th>\n",
       "      <th>Year</th>\n",
       "      <th>AUT</th>\n",
       "      <th>BEL</th>\n",
       "      <th>CZE</th>\n",
       "      <th>DEU</th>\n",
       "      <th>DNK</th>\n",
       "      <th>ESP</th>\n",
       "      <th>EST</th>\n",
       "      <th>FIN</th>\n",
       "      <th>FRA</th>\n",
       "      <th>...</th>\n",
       "      <th>ITA</th>\n",
       "      <th>LTU</th>\n",
       "      <th>LUX</th>\n",
       "      <th>LVA</th>\n",
       "      <th>NLD</th>\n",
       "      <th>POL</th>\n",
       "      <th>PRT</th>\n",
       "      <th>SVK</th>\n",
       "      <th>SVN</th>\n",
       "      <th>SWE</th>\n",
       "    </tr>\n",
       "  </thead>\n",
       "  <tbody>\n",
       "    <tr>\n",
       "      <th>0</th>\n",
       "      <td>Y2006</td>\n",
       "      <td>68.575</td>\n",
       "      <td>61.000</td>\n",
       "      <td>65.275</td>\n",
       "      <td>67.150</td>\n",
       "      <td>77.375</td>\n",
       "      <td>65.025</td>\n",
       "      <td>68.425</td>\n",
       "      <td>69.35</td>\n",
       "      <td>64.150</td>\n",
       "      <td>...</td>\n",
       "      <td>58.325</td>\n",
       "      <td>63.625</td>\n",
       "      <td>63.600</td>\n",
       "      <td>65.900</td>\n",
       "      <td>71.575</td>\n",
       "      <td>54.450</td>\n",
       "      <td>67.625</td>\n",
       "      <td>59.425</td>\n",
       "      <td>66.550</td>\n",
       "      <td>73.125</td>\n",
       "    </tr>\n",
       "    <tr>\n",
       "      <th>1</th>\n",
       "      <td>Y2007</td>\n",
       "      <td>69.875</td>\n",
       "      <td>62.025</td>\n",
       "      <td>66.075</td>\n",
       "      <td>68.975</td>\n",
       "      <td>77.000</td>\n",
       "      <td>65.800</td>\n",
       "      <td>69.725</td>\n",
       "      <td>70.30</td>\n",
       "      <td>64.725</td>\n",
       "      <td>...</td>\n",
       "      <td>58.575</td>\n",
       "      <td>65.000</td>\n",
       "      <td>64.150</td>\n",
       "      <td>68.125</td>\n",
       "      <td>73.450</td>\n",
       "      <td>57.025</td>\n",
       "      <td>67.600</td>\n",
       "      <td>60.700</td>\n",
       "      <td>67.750</td>\n",
       "      <td>74.175</td>\n",
       "    </tr>\n",
       "    <tr>\n",
       "      <th>2</th>\n",
       "      <td>Y2008</td>\n",
       "      <td>70.825</td>\n",
       "      <td>62.400</td>\n",
       "      <td>66.550</td>\n",
       "      <td>70.100</td>\n",
       "      <td>76.325</td>\n",
       "      <td>64.475</td>\n",
       "      <td>70.075</td>\n",
       "      <td>71.05</td>\n",
       "      <td>65.300</td>\n",
       "      <td>...</td>\n",
       "      <td>58.650</td>\n",
       "      <td>64.400</td>\n",
       "      <td>63.425</td>\n",
       "      <td>68.225</td>\n",
       "      <td>74.925</td>\n",
       "      <td>59.225</td>\n",
       "      <td>68.025</td>\n",
       "      <td>62.250</td>\n",
       "      <td>68.575</td>\n",
       "      <td>74.325</td>\n",
       "    </tr>\n",
       "    <tr>\n",
       "      <th>3</th>\n",
       "      <td>Y2009</td>\n",
       "      <td>70.325</td>\n",
       "      <td>61.600</td>\n",
       "      <td>65.375</td>\n",
       "      <td>69.375</td>\n",
       "      <td>73.525</td>\n",
       "      <td>59.950</td>\n",
       "      <td>64.200</td>\n",
       "      <td>67.90</td>\n",
       "      <td>64.425</td>\n",
       "      <td>...</td>\n",
       "      <td>56.900</td>\n",
       "      <td>59.875</td>\n",
       "      <td>65.200</td>\n",
       "      <td>60.050</td>\n",
       "      <td>76.175</td>\n",
       "      <td>57.175</td>\n",
       "      <td>62.975</td>\n",
       "      <td>61.850</td>\n",
       "      <td>67.075</td>\n",
       "      <td>71.650</td>\n",
       "    </tr>\n",
       "    <tr>\n",
       "      <th>4</th>\n",
       "      <td>Y2010</td>\n",
       "      <td>70.775</td>\n",
       "      <td>62.025</td>\n",
       "      <td>64.975</td>\n",
       "      <td>70.300</td>\n",
       "      <td>71.800</td>\n",
       "      <td>58.850</td>\n",
       "      <td>61.950</td>\n",
       "      <td>67.15</td>\n",
       "      <td>64.375</td>\n",
       "      <td>...</td>\n",
       "      <td>56.250</td>\n",
       "      <td>57.550</td>\n",
       "      <td>65.200</td>\n",
       "      <td>58.200</td>\n",
       "      <td>75.450</td>\n",
       "      <td>56.975</td>\n",
       "      <td>62.250</td>\n",
       "      <td>60.425</td>\n",
       "      <td>65.525</td>\n",
       "      <td>71.600</td>\n",
       "    </tr>\n",
       "  </tbody>\n",
       "</table>\n",
       "<p>5 rows × 23 columns</p>\n",
       "</div>"
      ],
      "text/plain": [
       "    Year     AUT     BEL     CZE     DEU     DNK     ESP     EST    FIN  \\\n",
       "0  Y2006  68.575  61.000  65.275  67.150  77.375  65.025  68.425  69.35   \n",
       "1  Y2007  69.875  62.025  66.075  68.975  77.000  65.800  69.725  70.30   \n",
       "2  Y2008  70.825  62.400  66.550  70.100  76.325  64.475  70.075  71.05   \n",
       "3  Y2009  70.325  61.600  65.375  69.375  73.525  59.950  64.200  67.90   \n",
       "4  Y2010  70.775  62.025  64.975  70.300  71.800  58.850  61.950  67.15   \n",
       "\n",
       "      FRA  ...     ITA     LTU     LUX     LVA     NLD     POL     PRT  \\\n",
       "0  64.150  ...  58.325  63.625  63.600  65.900  71.575  54.450  67.625   \n",
       "1  64.725  ...  58.575  65.000  64.150  68.125  73.450  57.025  67.600   \n",
       "2  65.300  ...  58.650  64.400  63.425  68.225  74.925  59.225  68.025   \n",
       "3  64.425  ...  56.900  59.875  65.200  60.050  76.175  57.175  62.975   \n",
       "4  64.375  ...  56.250  57.550  65.200  58.200  75.450  56.975  62.250   \n",
       "\n",
       "      SVK     SVN     SWE  \n",
       "0  59.425  66.550  73.125  \n",
       "1  60.700  67.750  74.175  \n",
       "2  62.250  68.575  74.325  \n",
       "3  61.850  67.075  71.650  \n",
       "4  60.425  65.525  71.600  \n",
       "\n",
       "[5 rows x 23 columns]"
      ]
     },
     "execution_count": 23,
     "metadata": {},
     "output_type": "execute_result"
    }
   ],
   "source": [
    "dfe.head()"
   ]
  },
  {
   "cell_type": "markdown",
   "id": "ec5f95d1",
   "metadata": {},
   "source": [
    "### Question 1.\n",
    "We want to combine those tables such that each row comprises a country and a year, as well as the avg. wages and the employment rate of that country in that year; i.e., the result should look like this:"
   ]
  },
  {
   "cell_type": "code",
   "execution_count": 13,
   "id": "693996fc",
   "metadata": {},
   "outputs": [],
   "source": [
    "\"\"\"\n",
    "  LOCATION  Year         Wages  Emprate\n",
    "0      AUT  2006  50524.506564   68.575\n",
    "1      BEL  2006  53327.449932   61.000\n",
    "2      CZE  2006  22861.847008   65.275\n",
    "3      DEU  2006  46546.461494   67.150\n",
    "4      DNK  2006  51745.235763   77.375\n",
    "\"\"\";"
   ]
  },
  {
   "cell_type": "markdown",
   "id": "4a8bfbcc",
   "metadata": {},
   "source": [
    "**Hint.** You need to melt the tables (converting them to long format) before merging them."
   ]
  },
  {
   "cell_type": "code",
   "execution_count": 25,
   "id": "8273b7ef",
   "metadata": {},
   "outputs": [],
   "source": [
    "dfw=dfw.melt(id_vars=['LOCATION'],value_vars=['Y2006', 'Y2007', 'Y2008', 'Y2009', 'Y2010', 'Y2011',\n",
    "       'Y2012', 'Y2013', 'Y2014', 'Y2015', 'Y2016', 'Y2017', 'Y2018', 'Y2019',\n",
    "       'Y2020'], \n",
    "        var_name='Year', value_name='Wages')"
   ]
  },
  {
   "cell_type": "code",
   "execution_count": 26,
   "id": "27325bc8",
   "metadata": {},
   "outputs": [],
   "source": [
    "dfe=dfe.melt(id_vars=['Year'],value_vars=['AUT', 'BEL', 'CZE', 'DEU', 'DNK', 'ESP', 'EST', 'FIN', 'FRA',\n",
    "       'GRC', 'HUN', 'IRL', 'ITA', 'LTU', 'LUX', 'LVA', 'NLD', 'POL', 'PRT',\n",
    "       'SVK', 'SVN', 'SWE'], \n",
    "        var_name='LOCATION', value_name='Emprate')"
   ]
  },
  {
   "cell_type": "code",
   "execution_count": 30,
   "id": "d141001c",
   "metadata": {},
   "outputs": [],
   "source": [
    "df_total=dfw.merge(dfe, on=['LOCATION','Year'])"
   ]
  },
  {
   "cell_type": "code",
   "execution_count": 31,
   "id": "461ebf7a",
   "metadata": {},
   "outputs": [],
   "source": [
    "df_total['Year']=df_total['Year'].map(lambda x: x[1:5])"
   ]
  },
  {
   "cell_type": "code",
   "execution_count": 32,
   "id": "a5fe51c7",
   "metadata": {},
   "outputs": [
    {
     "data": {
      "text/html": [
       "<div>\n",
       "<style scoped>\n",
       "    .dataframe tbody tr th:only-of-type {\n",
       "        vertical-align: middle;\n",
       "    }\n",
       "\n",
       "    .dataframe tbody tr th {\n",
       "        vertical-align: top;\n",
       "    }\n",
       "\n",
       "    .dataframe thead th {\n",
       "        text-align: right;\n",
       "    }\n",
       "</style>\n",
       "<table border=\"1\" class=\"dataframe\">\n",
       "  <thead>\n",
       "    <tr style=\"text-align: right;\">\n",
       "      <th></th>\n",
       "      <th>LOCATION</th>\n",
       "      <th>Year</th>\n",
       "      <th>Wages</th>\n",
       "      <th>Emprate</th>\n",
       "    </tr>\n",
       "  </thead>\n",
       "  <tbody>\n",
       "    <tr>\n",
       "      <th>0</th>\n",
       "      <td>AUT</td>\n",
       "      <td>2006</td>\n",
       "      <td>50524.506564</td>\n",
       "      <td>68.575</td>\n",
       "    </tr>\n",
       "    <tr>\n",
       "      <th>1</th>\n",
       "      <td>BEL</td>\n",
       "      <td>2006</td>\n",
       "      <td>53327.449932</td>\n",
       "      <td>61.000</td>\n",
       "    </tr>\n",
       "    <tr>\n",
       "      <th>2</th>\n",
       "      <td>CZE</td>\n",
       "      <td>2006</td>\n",
       "      <td>22861.847008</td>\n",
       "      <td>65.275</td>\n",
       "    </tr>\n",
       "    <tr>\n",
       "      <th>3</th>\n",
       "      <td>DEU</td>\n",
       "      <td>2006</td>\n",
       "      <td>46546.461494</td>\n",
       "      <td>67.150</td>\n",
       "    </tr>\n",
       "    <tr>\n",
       "      <th>4</th>\n",
       "      <td>DNK</td>\n",
       "      <td>2006</td>\n",
       "      <td>51745.235763</td>\n",
       "      <td>77.375</td>\n",
       "    </tr>\n",
       "  </tbody>\n",
       "</table>\n",
       "</div>"
      ],
      "text/plain": [
       "  LOCATION  Year         Wages  Emprate\n",
       "0      AUT  2006  50524.506564   68.575\n",
       "1      BEL  2006  53327.449932   61.000\n",
       "2      CZE  2006  22861.847008   65.275\n",
       "3      DEU  2006  46546.461494   67.150\n",
       "4      DNK  2006  51745.235763   77.375"
      ]
     },
     "execution_count": 32,
     "metadata": {},
     "output_type": "execute_result"
    }
   ],
   "source": [
    "df_total.head()"
   ]
  },
  {
   "cell_type": "markdown",
   "id": "01db2201",
   "metadata": {},
   "source": [
    "### Question 2.\n",
    "\n",
    "1. Find the average per country for:\n",
    "    1. the avg. wages, and\n",
    "    2. the employment rate \n",
    "\n",
    "Call the result `df2`, it should look like this:"
   ]
  },
  {
   "cell_type": "code",
   "execution_count": 21,
   "id": "bb13618b",
   "metadata": {},
   "outputs": [],
   "source": [
    "\"\"\"\n",
    "  LOCATION         Wages    Emprate\n",
    "0      AUT  52355.494860  71.233333\n",
    "1      BEL  54718.055292  62.528333\n",
    "2      CZE  25745.627363  69.158333\n",
    "3      DEU  49713.128343  72.178719\n",
    "4      DNK  55464.454195  73.465000\n",
    "\"\"\";"
   ]
  },
  {
   "cell_type": "code",
   "execution_count": 33,
   "id": "3dd5f902",
   "metadata": {},
   "outputs": [],
   "source": [
    "df2=dfw.pivot_table(values='Wages', index='LOCATION', aggfunc='mean')\\\n",
    ".merge(dfe.pivot_table(values='Emprate', index='LOCATION', aggfunc='mean'),\\\n",
    "       on=['LOCATION']).reset_index()"
   ]
  },
  {
   "cell_type": "code",
   "execution_count": 34,
   "id": "32bb4b1d",
   "metadata": {},
   "outputs": [
    {
     "data": {
      "text/html": [
       "<div>\n",
       "<style scoped>\n",
       "    .dataframe tbody tr th:only-of-type {\n",
       "        vertical-align: middle;\n",
       "    }\n",
       "\n",
       "    .dataframe tbody tr th {\n",
       "        vertical-align: top;\n",
       "    }\n",
       "\n",
       "    .dataframe thead th {\n",
       "        text-align: right;\n",
       "    }\n",
       "</style>\n",
       "<table border=\"1\" class=\"dataframe\">\n",
       "  <thead>\n",
       "    <tr style=\"text-align: right;\">\n",
       "      <th></th>\n",
       "      <th>LOCATION</th>\n",
       "      <th>Wages</th>\n",
       "      <th>Emprate</th>\n",
       "    </tr>\n",
       "  </thead>\n",
       "  <tbody>\n",
       "    <tr>\n",
       "      <th>0</th>\n",
       "      <td>AUT</td>\n",
       "      <td>52355.494860</td>\n",
       "      <td>71.233333</td>\n",
       "    </tr>\n",
       "    <tr>\n",
       "      <th>1</th>\n",
       "      <td>BEL</td>\n",
       "      <td>54718.055292</td>\n",
       "      <td>62.528333</td>\n",
       "    </tr>\n",
       "    <tr>\n",
       "      <th>2</th>\n",
       "      <td>CZE</td>\n",
       "      <td>25745.627363</td>\n",
       "      <td>69.158333</td>\n",
       "    </tr>\n",
       "    <tr>\n",
       "      <th>3</th>\n",
       "      <td>DEU</td>\n",
       "      <td>49713.128343</td>\n",
       "      <td>72.178719</td>\n",
       "    </tr>\n",
       "    <tr>\n",
       "      <th>4</th>\n",
       "      <td>DNK</td>\n",
       "      <td>55464.454195</td>\n",
       "      <td>73.465000</td>\n",
       "    </tr>\n",
       "  </tbody>\n",
       "</table>\n",
       "</div>"
      ],
      "text/plain": [
       "  LOCATION         Wages    Emprate\n",
       "0      AUT  52355.494860  71.233333\n",
       "1      BEL  54718.055292  62.528333\n",
       "2      CZE  25745.627363  69.158333\n",
       "3      DEU  49713.128343  72.178719\n",
       "4      DNK  55464.454195  73.465000"
      ]
     },
     "execution_count": 34,
     "metadata": {},
     "output_type": "execute_result"
    }
   ],
   "source": [
    "df2.head()"
   ]
  },
  {
   "cell_type": "markdown",
   "id": "66fb5022",
   "metadata": {},
   "source": [
    "\n",
    "2. Then, compare those two groups of countries in terms of avg. wages and employment rate.\n",
    "    * `G1 = ['DEU', 'DNK', 'LUX', 'AUT', 'NLD', 'FRA', 'SWE']`\n",
    "    * `G2 = ['SVK', 'LTU', 'LVA', 'EST', 'POL', 'POR', 'CZE', 'HUN']`   \n",
    "* Prove your findings with suitable t-tests. \n"
   ]
  },
  {
   "cell_type": "markdown",
   "id": "09b707b4",
   "metadata": {},
   "source": [
    "𝐻0:𝜇G1=𝜇G2 \n",
    "𝐻𝑎:𝜇G1≠𝜇G2"
   ]
  },
  {
   "cell_type": "code",
   "execution_count": 35,
   "id": "67656bff",
   "metadata": {},
   "outputs": [
    {
     "name": "stdout",
     "output_type": "stream",
     "text": [
      "52486.680588089526 23581.09219314584\n",
      "p-value 3.4947673828925164e-07\n",
      "We reject the null hypothesis\n"
     ]
    }
   ],
   "source": [
    "A = (df2.loc[df2['LOCATION'].isin(['DEU', 'DNK', 'LUX', 'AUT', 'NLD', 'FRA', 'SWE'])])['Wages']\n",
    "B =(df2.loc[df2['LOCATION'].isin(['SVK', 'LTU', 'LVA', 'EST', 'POL', 'POR', 'CZE', 'HUN'])])['Wages']\n",
    "print(A.mean(), B.mean())\n",
    "\n",
    "alpha = 0.05  # level of significance\n",
    "\n",
    "tstat, pval = stats.ttest_ind(a=A, b=B, alternative='two-sided')\n",
    "print(\"p-value\", pval)\n",
    "\n",
    "if pval < alpha: \n",
    "    print(\"We reject the null hypothesis\")\n",
    "else:\n",
    "    print(\"We fail to reject the null hypothesis\")\n",
    "    "
   ]
  },
  {
   "cell_type": "markdown",
   "id": "8fe13222",
   "metadata": {},
   "source": [
    "With 95% probability, it can be argued that the average wages in the 2 groups have statistically significant differences"
   ]
  },
  {
   "cell_type": "code",
   "execution_count": 31,
   "id": "eadc28fa",
   "metadata": {},
   "outputs": [
    {
     "name": "stdout",
     "output_type": "stream",
     "text": [
      "71.11719799999999 65.59666666666666\n",
      "p-value 0.01910835286799817\n",
      "We reject the null hypothesis\n"
     ]
    }
   ],
   "source": [
    "A = (df2.loc[df2['LOCATION'].isin(['DEU', 'DNK', 'LUX', 'AUT', 'NLD', 'FRA', 'SWE'])])['Emprate']\n",
    "B =(df2.loc[df2['LOCATION'].isin(['SVK', 'LTU', 'LVA', 'EST', 'POL', 'POR', 'CZE', 'HUN'])])['Emprate']\n",
    "print(A.mean(), B.mean())\n",
    "\n",
    "alpha = 0.05  # level of significance\n",
    "\n",
    "tstat, pval = stats.ttest_ind(a=A, b=B, alternative='two-sided')\n",
    "print(\"p-value\", pval)\n",
    "\n",
    "if pval < alpha: \n",
    "    print(\"We reject the null hypothesis\")\n",
    "else:\n",
    "    print(\"We fail to reject the null hypothesis\")"
   ]
  },
  {
   "cell_type": "markdown",
   "id": "be526f20",
   "metadata": {},
   "source": [
    "With 95% probability, it can be argued that the employment rate in the 2 groups have statistically significant differences"
   ]
  },
  {
   "cell_type": "code",
   "execution_count": 41,
   "id": "eba70102",
   "metadata": {},
   "outputs": [
    {
     "data": {
      "image/png": "[encoded data removed]",
      "text/plain": [
       "<Figure size 432x288 with 1 Axes>"
      ]
     },
     "metadata": {
      "needs_background": "light"
     },
     "output_type": "display_data"
    }
   ],
   "source": [
    "plt.scatter(df2['Emprate'], df2['Wages'])\n",
    "for location, Wages, Emprate in df2.itertuples(None,None):\n",
    "    plt.text(x=Emprate, y=Wages, s=location)"
   ]
  }
 ],
 "metadata": {
  "kernelspec": {
   "display_name": "Python 3 (ipykernel)",
   "language": "python",
   "name": "python3"
  },
  "language_info": {
   "codemirror_mode": {
    "name": "ipython",
    "version": 3
   },
   "file_extension": ".py",
   "mimetype": "text/x-python",
   "name": "python",
   "nbconvert_exporter": "python",
   "pygments_lexer": "ipython3",
   "version": "3.9.7"
  }
 },
 "nbformat": 4,
 "nbformat_minor": 5
}
